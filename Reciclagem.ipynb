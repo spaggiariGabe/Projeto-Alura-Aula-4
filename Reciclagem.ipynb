{
  "nbformat": 4,
  "nbformat_minor": 0,
  "metadata": {
    "colab": {
      "provenance": [],
      "authorship_tag": "ABX9TyMxzyXUkA7qDQAW+I3Pb+iw",
      "include_colab_link": true
    },
    "kernelspec": {
      "name": "python3",
      "display_name": "Python 3"
    },
    "language_info": {
      "name": "python"
    }
  },
  "cells": [
    {
      "cell_type": "markdown",
      "metadata": {
        "id": "view-in-github",
        "colab_type": "text"
      },
      "source": [
        "<a href=\"https://colab.research.google.com/github/spaggiariGabe/Projeto-Alura-Aula-4/blob/main/Reciclagem.ipynb\" target=\"_parent\"><img src=\"https://colab.research.google.com/assets/colab-badge.svg\" alt=\"Open In Colab\"/></a>"
      ]
    },
    {
      "cell_type": "code",
      "execution_count": 76,
      "metadata": {
        "id": "VOlAK8kA1UMz"
      },
      "outputs": [],
      "source": [
        "!pip install -q -U google-generativeai"
      ]
    },
    {
      "cell_type": "code",
      "source": [
        "import google.generativeai as genai\n",
        "from google.colab import userdata\n",
        "api_key = userdata.get('SECRET KEY')\n",
        "genai.configure(api_key=api_key)"
      ],
      "metadata": {
        "id": "GFBmtq-w2uSK"
      },
      "execution_count": 77,
      "outputs": []
    },
    {
      "cell_type": "code",
      "source": [
        "for m in genai.list_models():\n",
        "  if 'generateContent' in m.supported_generation_methods:\n",
        "    print(m.name)"
      ],
      "metadata": {
        "id": "_Vo2UVbh2yAL"
      },
      "execution_count": null,
      "outputs": []
    },
    {
      "cell_type": "code",
      "source": [
        "generation_config = {\n",
        "    \"candidate_count\": 1,\n",
        "    \"temperature\": 0.5,\n",
        "    \"top_k\": 2,\n",
        "    \"top_p\": 0.7,\n",
        "}"
      ],
      "metadata": {
        "id": "jZFOdxJU2070"
      },
      "execution_count": 79,
      "outputs": []
    },
    {
      "cell_type": "code",
      "source": [
        "safety_settings = {\n",
        "    \"Harassment\": \"block_none\",\n",
        "    \"Hate\": \"block_none\",\n",
        "    \"Sexual\": \"block_none\",\n",
        "    \"Dangerous\": \"block_none\",\n",
        "}"
      ],
      "metadata": {
        "id": "W6VrfqSD2319"
      },
      "execution_count": 80,
      "outputs": []
    },
    {
      "cell_type": "code",
      "source": [
        "model = genai.GenerativeModel(model_name=\"gemini-1.0-pro\",\n",
        "                              generation_config=generation_config,\n",
        "                              safety_settings=safety_settings)"
      ],
      "metadata": {
        "id": "wHNqmmau4Xjq"
      },
      "execution_count": 81,
      "outputs": []
    },
    {
      "cell_type": "code",
      "source": [
        "response = model.generate_content(\"Reciclagem.\")\n",
        "print(response.text)"
      ],
      "metadata": {
        "id": "Z29Es0gs4bkz"
      },
      "execution_count": null,
      "outputs": []
    },
    {
      "cell_type": "code",
      "source": [
        "chat = model.start_chat(history=[])"
      ],
      "metadata": {
        "id": "mS5KEcPq6oz6"
      },
      "execution_count": null,
      "outputs": []
    },
    {
      "cell_type": "code",
      "source": [
        "print ('- O que deseja saber sobre reciclagem?' '\\n')\n",
        "prompt = input(\"\")\n",
        "print ('-'*100)\n",
        "\n",
        "while prompt != \"fim\":\n",
        "  response = chat.send_message(prompt)\n",
        "  print (\"Resposta: \", response.text, \"\\n\")\n",
        "  print ('- Faça outra pergunta ou para finalizar escreva \"fim\".', '\\n')\n",
        "  prompt = input(\"\")\n",
        "  print ('-'*100)"
      ],
      "metadata": {
        "id": "rBPUANqvGLyk"
      },
      "execution_count": null,
      "outputs": []
    },
    {
      "cell_type": "code",
      "source": [
        "import textwrap\n",
        "from IPython.display import display\n",
        "from IPython.display import Markdown\n",
        "\n",
        "def to_markdown(text):\n",
        "  text = text.replace('•', '  *')\n",
        "  return Markdown(textwrap.indent(text, '> ', predicate=lambda _: True))\n",
        "\n",
        "#Imprimindo o histórico:\n",
        "for message in chat.history:\n",
        "  display(to_markdown(f'**{message.role}**: {message.parts[0].text}'))\n",
        "  print('-'*100)"
      ],
      "metadata": {
        "id": "wPnlXQcZAfnx"
      },
      "execution_count": null,
      "outputs": []
    }
  ]
}